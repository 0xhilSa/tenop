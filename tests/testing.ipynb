{
 "cells": [
  {
   "cell_type": "code",
   "execution_count": 1,
   "id": "e8ae2bec-19dd-4a0c-bbad-634228b5fb12",
   "metadata": {},
   "outputs": [],
   "source": [
    "from tenop import Tensor\n",
    "import tenop"
   ]
  },
  {
   "cell_type": "code",
   "execution_count": 2,
   "id": "52dff423-a6cc-457f-9bce-5d4d341d1e09",
   "metadata": {},
   "outputs": [
    {
     "data": {
      "text/plain": [
       "<Tensor(<Buffer(shape=(2, 2, 3), dtype='unsigned char', device='cpu:0', requires_grad=False, const=False)>)>"
      ]
     },
     "execution_count": 2,
     "metadata": {},
     "output_type": "execute_result"
    }
   ],
   "source": [
    "x = Tensor([[[1,2,3],[4,5,6]],[[1,4,9],[16,25,36]]], dtype=tenop.uchar, device=\"cpu:0\"); x"
   ]
  },
  {
   "cell_type": "code",
   "execution_count": 3,
   "id": "2e8b3f57-79d9-47ad-bac4-8b8573e157ab",
   "metadata": {},
   "outputs": [
    {
     "name": "stdout",
     "output_type": "stream",
     "text": [
      "cpu:0\n",
      "AMD Ryzen 5 7535HS with Radeon Graphics\n"
     ]
    }
   ],
   "source": [
    "print(x.device); print(x.device.name)"
   ]
  },
  {
   "cell_type": "code",
   "execution_count": 4,
   "id": "ef1e49d5-96bd-4400-a2f2-983bd5c01a2a",
   "metadata": {},
   "outputs": [],
   "source": [
    "y = x.cuda()"
   ]
  },
  {
   "cell_type": "code",
   "execution_count": 5,
   "id": "796a45d3-7169-448d-a504-e1e31d333706",
   "metadata": {},
   "outputs": [
    {
     "name": "stdout",
     "output_type": "stream",
     "text": [
      "cuda:0\n",
      "NVIDIA GeForce RTX 2050\n"
     ]
    }
   ],
   "source": [
    "print(y.device); print(y.device.name)"
   ]
  },
  {
   "cell_type": "code",
   "execution_count": null,
   "id": "c715e6f8-c9ad-49ea-8bef-f3e63f320a3a",
   "metadata": {},
   "outputs": [],
   "source": []
  }
 ],
 "metadata": {
  "kernelspec": {
   "display_name": "Python 3 (ipykernel)",
   "language": "python",
   "name": "python3"
  },
  "language_info": {
   "codemirror_mode": {
    "name": "ipython",
    "version": 3
   },
   "file_extension": ".py",
   "mimetype": "text/x-python",
   "name": "python",
   "nbconvert_exporter": "python",
   "pygments_lexer": "ipython3",
   "version": "3.10.12"
  }
 },
 "nbformat": 4,
 "nbformat_minor": 5
}
